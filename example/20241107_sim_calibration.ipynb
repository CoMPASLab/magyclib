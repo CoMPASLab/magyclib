{
 "cells": [
  {
   "cell_type": "markdown",
   "metadata": {},
   "source": [
    "# MAGYC Example - Simulated Data Calibration & Self Evaluation\n",
    "\n",
    "This notebook demonstrates how to use the MAGYC algorithms to calibrate a magnetometer and gyroscope using simulated data and provides a comparison with benchmark methods for calibration. Then, the results are self evaluated.\n",
    "\n",
    "The calibration dataset corresponds to the simulated data used in the paper: \"Full Magnetometer and Gyroscope Bias Estimation Using Angular Rates: Theory and Experimental Evaluation of a Factor Graph-Based Approach\" by S. Rodríguez-Martínez and G. Troni, 2024. The dataset is available on Google Drive."
   ]
  },
  {
   "cell_type": "markdown",
   "metadata": {},
   "source": [
    "## Simulated dataset description\n",
    "\n",
    "1. Movement levels:\n",
    "    * **WAM**: Wide angular movement dataset (roll: $\\pm 5^\\circ$, pitch: $\\pm 45^\\circ$ and heading $\\pm 360^\\circ$).\n",
    "    * **MAM**: Mid angular movement dataset (roll: $\\pm 5^\\circ$, pitch: $\\pm 5^\\circ$ and heading $\\pm 360^\\circ$).\n",
    "    * **LAM**: Low angular movement dataset (roll: $\\pm 5^\\circ$, pitch: $\\pm 45^\\circ$ and heading $\\pm 90^\\circ$).\n",
    "    * **TAM**: Tiny angular movement dataset (roll: $\\pm 5^\\circ$, pitch: $\\pm 5^\\circ$ and heading $\\pm 90^\\circ$).\n",
    "\n",
    "2. Simulations number: 1,000 per movement level.\n",
    "3. Samples per simulation: 6,000 (600 seconds at 10 Hz).\n",
    "4. Magnetometer noise: 10.0 mG.\n",
    "5. Gyroscope noise: 10 mrad/s.\n",
    "6. The true magnetic field vector: $\\mathbf{m_0} = [227,\\, 52, \\,412]^T$ mG.\n",
    "7. Soft-iron upper triangular terms are given by: $\\mathbf{a} = [1.10,\\, 0.10,\\, 0.04,\\, 0.88,\\, 0.02,\\, 1.22]^T$.\n",
    "8. Hard-iron bias is: $\\mathbf{m_b} = [20,\\, 120,\\, 90]^T$ mG.\n",
    "9. Gyroscope bias is: $\\mathbf{w_b} = [4,\\, -5,\\, 2]^T$ mrad/s.\n",
    "\n",
    "> For further details, refer to section _V. Numerical Simulation Evaluation_ in the paper."
   ]
  },
  {
   "cell_type": "markdown",
   "metadata": {},
   "source": [
    "## Parameters"
   ]
  },
  {
   "cell_type": "code",
   "execution_count": null,
   "metadata": {},
   "outputs": [],
   "source": [
    "# Dataset options for calibratio: wam, mam, lam, tam\n",
    "dataset = \"lam\"\n",
    "\n",
    "# Number of cpus for multiprocessing. If 0, it will use all available cpus\n",
    "processors = 0\n",
    "\n",
    "# Number of simulations to use for calibration. If all, set to -1\n",
    "idx = 3"
   ]
  },
  {
   "cell_type": "markdown",
   "metadata": {},
   "source": [
    "## Set dependencies"
   ]
  },
  {
   "cell_type": "code",
   "execution_count": null,
   "metadata": {},
   "outputs": [],
   "source": [
    "import os\n",
    "import pickle as pkl\n",
    "import sys\n",
    "from multiprocessing import Pool, cpu_count\n",
    "from warnings import warn\n",
    "\n",
    "import gdown\n",
    "import matplotlib.pyplot as plt\n",
    "import navlib.math as nm\n",
    "import numpy as np\n",
    "import pandas as pd\n",
    "from scipy.signal import savgol_filter\n",
    "from tqdm import tqdm\n",
    "\n",
    "sys.path.append(os.path.abspath(os.path.join(os.getcwd(), os.pardir, \"magyc\")))\n",
    "\n",
    "from magyc import hsi_calibration_validation, magfield_data_plot"
   ]
  },
  {
   "cell_type": "markdown",
   "metadata": {},
   "source": [
    "## Import Data from Google Drive"
   ]
  },
  {
   "cell_type": "code",
   "execution_count": null,
   "metadata": {},
   "outputs": [],
   "source": [
    "# Paths\n",
    "cwd_path = os.path.abspath(os.getcwd())\n",
    "sim_data_path = os.path.join(os.path.abspath(os.getcwd()), \"sim_magcal_20241107_2049.pkl\")\n",
    "\n",
    "if not os.path.isfile(sim_data_path):\n",
    "    # Google Drive file id\n",
    "    file_id = \"1c5Y1y3PU0pYVrRuZwQGtYYlmj3X2twRm\"\n",
    "    url = f\"https://drive.google.com/uc?id={file_id}\"\n",
    "\n",
    "    # Download the file\n",
    "    gdown.download(url, sim_data_path)"
   ]
  },
  {
   "cell_type": "markdown",
   "metadata": {},
   "source": [
    "## Load Dataset"
   ]
  },
  {
   "cell_type": "code",
   "execution_count": null,
   "metadata": {},
   "outputs": [],
   "source": [
    "# Read pickle\n",
    "with open(sim_data_path, 'rb') as f:\n",
    "    data = pkl.load(f)\n",
    "\n",
    "dataset_map = {\"wam\":  \"high\", \"mam\": \"mid\", \"lam\": \"low\", \"tam\": \"tiny\", \"cross\": \"cross\"}\n",
    "\n",
    "data = data[dataset_map[dataset]]"
   ]
  },
  {
   "cell_type": "markdown",
   "metadata": {},
   "source": [
    "## Dataset Calibration"
   ]
  },
  {
   "cell_type": "code",
   "execution_count": null,
   "metadata": {},
   "outputs": [],
   "source": [
    "output_path_hi = f\"{cwd_path}/calibration_hi_{dataset}.pkl\"\n",
    "output_path_si = f\"{cwd_path}/calibration_si_{dataset}.pkl\"\n",
    "output_path_wb = f\"{cwd_path}/calibration_wb_{dataset}.pkl\"\n",
    "\n",
    "si_dict = dict()\n",
    "hi_dict = dict()\n",
    "wb_dict = dict()"
   ]
  },
  {
   "cell_type": "markdown",
   "metadata": {},
   "source": [
    "## Get Calibration Data"
   ]
  },
  {
   "cell_type": "code",
   "execution_count": null,
   "metadata": {},
   "outputs": [],
   "source": [
    "# Extract data\n",
    "# Time\n",
    "time = data[\"t\"][:idx]\n",
    "\n",
    "# Magnetic field\n",
    "magnetic_field = data[\"mmt\"][:idx]\n",
    "magnetic_field_f = magnetic_field\n",
    "local_magnetic_field = data[\"m0\"][0].flatten()\n",
    "for i in range(magnetic_field.shape[0]):\n",
    "    magnetic_field_f[i] = savgol_filter(magnetic_field[i], 50, 2, axis=0)\n",
    "\n",
    "# Angular rates\n",
    "angular_rates = data[\"wmt\"][:idx]\n",
    "angular_rates_f = angular_rates\n",
    "for i in range(angular_rates.shape[0]):\n",
    "    angular_rates_f[i] = savgol_filter(angular_rates[i], 50, 2, axis=0)\n",
    "\n",
    "# Attitude\n",
    "rph = data[\"rph\"][:idx]\n",
    "\n",
    "# Frequency\n",
    "frequency = int(np.round(nm.mean(1 / np.diff(time[0].squeeze())), 0))"
   ]
  },
  {
   "cell_type": "code",
   "execution_count": null,
   "metadata": {},
   "outputs": [],
   "source": [
    "# Plot magnetic field components and magnitude\n",
    "_, ax = plt.subplots(4, 1)\n",
    "\n",
    "ax[0].set_title(\"Magnetic field X\")\n",
    "ax[0].plot(time[0], magnetic_field[0, :, 0], label=\"raw\")\n",
    "ax[0].plot(time[0], magnetic_field_f[0, :, 0], label=\"filtered\")\n",
    "ax[0].legend()\n",
    "\n",
    "ax[1].set_title(\"Magnetic field Y\")\n",
    "ax[1].plot(time[0], magnetic_field[0, :, 1], label=\"raw\")\n",
    "ax[1].plot(time[0], magnetic_field_f[0, :, 1], label=\"filtered\")\n",
    "ax[1].legend()\n",
    "\n",
    "ax[2].set_title(\"Magnetic field Z\")\n",
    "ax[2].plot(time[0], magnetic_field[0, :, 2], label=\"raw\")\n",
    "ax[2].plot(time[0], magnetic_field_f[0, :, 2], label=\"filtered\")\n",
    "ax[2].legend()\n",
    "\n",
    "magnetic_field_magnitude = nm.norm(magnetic_field[0])\n",
    "magnetic_field_f_magnitude = nm.norm(magnetic_field_f[0])\n",
    "\n",
    "ax[3].set_title(\"Magnetic field magnitude\")\n",
    "ax[3].plot(time[0], magnetic_field_magnitude, label=\"raw\")\n",
    "ax[3].plot(time[0], magnetic_field_f_magnitude, label=\"filtered\")\n",
    "ax[3].legend()\n",
    "\n",
    "plt.show()"
   ]
  },
  {
   "cell_type": "code",
   "execution_count": null,
   "metadata": {},
   "outputs": [],
   "source": [
    "_, ax = plt.subplots(3, 1)\n",
    "\n",
    "ax[0].set_title(\"Heading\")\n",
    "ax[0].plot(time[0], np.rad2deg(rph[0, :, 2]))\n",
    "ax[0].set_ylabel(\"Degrees\")\n",
    "\n",
    "ax[1].set_title(\"Roll\")\n",
    "ax[1].plot(time[0], np.rad2deg(rph[0, :, 0]))\n",
    "ax[1].set_ylabel(\"Degrees\")\n",
    "\n",
    "ax[2].set_title(\"Pitch\")\n",
    "ax[2].plot(time[0], np.rad2deg(rph[0, :, 1]))\n",
    "ax[2].set_ylabel(\"Degrees\")\n",
    "\n",
    "plt.show()"
   ]
  },
  {
   "cell_type": "code",
   "execution_count": null,
   "metadata": {},
   "outputs": [],
   "source": [
    "magfield_data_plot(data[\"si\"][0], data[\"hi\"][0], magnetic_field[0], data[\"m0\"][0])"
   ]
  },
  {
   "cell_type": "markdown",
   "metadata": {},
   "source": [
    "### TWOSTEP"
   ]
  },
  {
   "cell_type": "code",
   "execution_count": null,
   "metadata": {},
   "outputs": [],
   "source": [
    "from magyc import twostep_hsi as twostep\n",
    "\n",
    "si_temp, hi_temp, count = np.zeros((3, 3)), np.zeros((1, 3)), 0\n",
    "\n",
    "# Generate random values for magnetic field std and local magnetic field based on a seed for reproducibility\n",
    "np.random.seed(22)\n",
    "magnetic_field_std = np.abs(np.random.normal(loc=0.01, scale=0.01, size=magnetic_field.shape[0]))\n",
    "local_magnetic_field_twostep = [local_magnetic_field * j for j in np.abs(np.random.normal(loc=1, scale=0.05, size=(magnetic_field.shape[0])))]\n",
    "\n",
    "def process_iteration(i):\n",
    "    try:\n",
    "        hi_twostep, si_twostep, _ = twostep(magnetic_field[i], local_magnetic_field_twostep[i], measurement_noise_std=magnetic_field_std[i])\n",
    "        if (not np.any(np.isnan(si_twostep))) and (not np.any(np.isnan(hi_twostep))):\n",
    "            return hi_twostep, si_twostep\n",
    "    except:\n",
    "        return None\n",
    "\n",
    "# Run calibration\n",
    "cpus = cpu_count() if processors == 0 else processors\n",
    "with Pool(cpus) as pool:\n",
    "    results = list(tqdm(pool.imap(process_iteration, range(magnetic_field.shape[0])), total=magnetic_field.shape[0]))\n",
    "\n",
    "# Process results\n",
    "for i, result in enumerate(results):\n",
    "    if result is not None and hsi_calibration_validation(result[1], result[0]):\n",
    "        hi_temp += result[0]\n",
    "        si_temp += result[1]\n",
    "        count += 1\n",
    "\n",
    "hi_twostep = hi_temp / count\n",
    "si_twostep = si_temp / count\n",
    "\n",
    "if count < magnetic_field.shape[0]:\n",
    "    warn(f\"{magnetic_field.shape[0] - count} iterations failed\")\n",
    "\n",
    "# Print results\n",
    "print(\"Hard Iron: \", hi_twostep)\n",
    "print(\"Soft Iron: \", si_twostep)\n",
    "\n",
    "# Save results\n",
    "if hsi_calibration_validation(si_twostep, hi_twostep):\n",
    "    hi_dict[\"twostep\"] = hi_twostep\n",
    "    si_dict[\"twostep\"] = si_twostep\n",
    "    wb_dict[\"twostep\"] = None\n",
    "else:\n",
    "    hi_dict[\"twostep\"] = None\n",
    "    si_dict[\"twostep\"] = None\n",
    "    wb_dict[\"twostep\"] = None\n",
    "    print(\"!!CALIBRATION NON VALID!!\")"
   ]
  },
  {
   "cell_type": "markdown",
   "metadata": {},
   "source": [
    "### Ellipsoid Fit"
   ]
  },
  {
   "cell_type": "code",
   "execution_count": null,
   "metadata": {},
   "outputs": [],
   "source": [
    "from magyc import ellipsoid_fit\n",
    "\n",
    "si_temp, hi_temp, count = np.zeros((3, 3)), np.zeros((3, )), 0\n",
    "\n",
    "def process_iteration(i):\n",
    "    hi_ef, si_ef, _ = ellipsoid_fit(magnetic_field[i])\n",
    "    return hi_ef, si_ef\n",
    "\n",
    "# Run calibration\n",
    "cpus = cpu_count() if processors == 0 else processors\n",
    "with Pool(cpus) as pool:\n",
    "    results = list(tqdm(pool.imap(process_iteration, range(magnetic_field.shape[0])), total=magnetic_field.shape[0]))\n",
    "\n",
    "# Process results\n",
    "for i, result in enumerate(results):\n",
    "    if result[0] is not None and hsi_calibration_validation(result[1], result[0]):\n",
    "        hi_temp += result[0]\n",
    "        si_temp += result[1]\n",
    "        count += 1\n",
    "\n",
    "hi_ef = hi_temp / count\n",
    "si_ef = si_temp / count\n",
    "\n",
    "if count < magnetic_field.shape[0]:\n",
    "    warn(f\"{magnetic_field.shape[0] - count} iterations failed\")\n",
    "\n",
    "print(\"Hard Iron: \", hi_ef)\n",
    "print(\"Soft Iron: \", si_ef)\n",
    "\n",
    "# Save results\n",
    "if hsi_calibration_validation(si_ef, hi_ef):\n",
    "    hi_dict[\"ellipsoid_fit\"] = hi_ef\n",
    "    si_dict[\"ellipsoid_fit\"] = si_ef\n",
    "    wb_dict[\"ellipsoid_fit\"] = None\n",
    "else:\n",
    "    hi_dict[\"ellipsoid_fit\"] = None\n",
    "    si_dict[\"ellipsoid_fit\"] = None\n",
    "    wb_dict[\"ellipsoid_fit\"] = None\n",
    "    print(\"!!CALIBRATION NON VALID!!\")"
   ]
  },
  {
   "cell_type": "markdown",
   "metadata": {},
   "source": [
    "### MagFactor3"
   ]
  },
  {
   "cell_type": "code",
   "execution_count": null,
   "metadata": {},
   "outputs": [],
   "source": [
    "from magyc import magfactor3\n",
    "\n",
    "local_magnetic_field_magfactor3 = [local_magnetic_field * j for j in np.abs(np.random.normal(loc=1, scale=0.05, size=(magnetic_field.shape[0])))]\n",
    "rph_magfactor3 = [rphj * j for rphj, j in zip(rph, np.abs(np.random.normal(loc=1, scale=0.05, size=(magnetic_field.shape[0]))))]\n",
    "magnetic_declination_magfactor3 = [12.72 * j for j in np.abs(np.random.normal(loc=1, scale=0.05, size=(magnetic_field.shape[0])))]\n",
    "\n",
    "si_temp, hi_temp, count = np.zeros((3, 3)), np.zeros((3, )), 0\n",
    "\n",
    "def process_iteration(i):\n",
    "    hi_mf3, si_mf3, _, _ = magfactor3(magnetic_field[i], rph_magfactor3[i], magnetic_declination_magfactor3[i], reference_magnetic_field=local_magnetic_field_magfactor3[i])\n",
    "    return hi_mf3, si_mf3\n",
    "\n",
    "# Run calibration\n",
    "cpus = cpu_count() if processors == 0 else processors\n",
    "with Pool(cpus) as pool:\n",
    "    results = list(tqdm(pool.imap(process_iteration, range(magnetic_field.shape[0])), total=magnetic_field.shape[0]))\n",
    "\n",
    "# Process results\n",
    "for i, result in enumerate(results):\n",
    "    if result[0] is not None and hsi_calibration_validation(result[1], result[0]):\n",
    "        hi_temp += result[0]\n",
    "        si_temp += result[1]\n",
    "        count += 1\n",
    "\n",
    "hi_mf3 = hi_temp / count\n",
    "si_mf3 = si_temp / count\n",
    "\n",
    "if count < magnetic_field.shape[0]:\n",
    "    warn(f\"{magnetic_field.shape[0] - count} iterations failed\")\n",
    "\n",
    "print(\"Hard Iron: \", hi_mf3)\n",
    "print(\"Soft Iron: \", si_mf3)\n",
    "\n",
    "# Save results\n",
    "if hsi_calibration_validation(si_mf3, hi_mf3):\n",
    "    hi_dict[\"magfactor3\"] = hi_mf3\n",
    "    si_dict[\"magfactor3\"] = si_mf3\n",
    "    wb_dict[\"magfactor3\"] = None\n",
    "else:\n",
    "    hi_dict[\"magfactor3\"] = None\n",
    "    si_dict[\"magfactor3\"] = None\n",
    "    wb_dict[\"magfactor3\"] = None\n",
    "    print(\"!!CALIBRATION NON VALID!!\")"
   ]
  },
  {
   "cell_type": "markdown",
   "metadata": {},
   "source": [
    "### MAGYC-BFG"
   ]
  },
  {
   "cell_type": "code",
   "execution_count": null,
   "metadata": {},
   "outputs": [],
   "source": [
    "from magyc import magyc_bfg\n",
    "\n",
    "si_temp, hi_temp, wb_temp, count = np.zeros((3, 3)), np.zeros((3, )), np.zeros((3, )), 0\n",
    "\n",
    "def process_iteration(i):\n",
    "    hi_bfg, si_bfg, wb_bfg, _, _, _ = magyc_bfg(magnetic_field[i], angular_rates[i], time[i], frequency)\n",
    "    return hi_bfg, si_bfg, wb_bfg\n",
    "\n",
    "# Run calibration\n",
    "cpus = cpu_count() if processors == 0 else processors\n",
    "with Pool(cpus) as pool:\n",
    "    results = list(tqdm(pool.imap(process_iteration, range(magnetic_field.shape[0])), total=magnetic_field.shape[0]))\n",
    "\n",
    "# Process results\n",
    "for i, result in enumerate(results):\n",
    "    if result[0] is not None and hsi_calibration_validation(result[1], result[0]):\n",
    "        hi_temp += result[0]\n",
    "        si_temp += result[1]\n",
    "        wb_temp += result[2]\n",
    "        count += 1\n",
    "\n",
    "hi_bfg = hi_temp / count\n",
    "si_bfg = si_temp / count\n",
    "wb_bfg = wb_temp / count\n",
    "\n",
    "if count < magnetic_field.shape[0]:\n",
    "    warn(f\"{magnetic_field.shape[0] - count} iterations failed\")\n",
    "\n",
    "print(\"Hard Iron: \", hi_bfg)\n",
    "print(\"Soft Iron: \", si_bfg)\n",
    "print(\"Gyro bias: \", wb_bfg)\n",
    "\n",
    "# Save results\n",
    "if hsi_calibration_validation(si_bfg, hi_bfg):\n",
    "    hi_dict[\"magyc_bfg\"] = hi_bfg\n",
    "    si_dict[\"magyc_bfg\"] = si_bfg\n",
    "    wb_dict[\"magyc_bfg\"] = wb_bfg\n",
    "else:\n",
    "    hi_dict[\"magyc_bfg\"] = None\n",
    "    si_dict[\"magyc_bfg\"] = None\n",
    "    wb_dict[\"magyc_bfg\"] = None\n",
    "    print(\"!!CALIBRATION NON VALID!!\")"
   ]
  },
  {
   "cell_type": "markdown",
   "metadata": {},
   "source": [
    "### MAGYC-IFG"
   ]
  },
  {
   "cell_type": "code",
   "execution_count": null,
   "metadata": {},
   "outputs": [],
   "source": [
    "from magyc import magyc_ifg\n",
    "\n",
    "si_temp, hi_temp, wb_temp, count = np.zeros((3, 3)), np.zeros((3, )), np.zeros((3, )), 0\n",
    "\n",
    "def process_iteration(i):\n",
    "    hi_ifg, si_ifg, wb_ifg, _, _, _ = magyc_ifg(magnetic_field[i], angular_rates[i], time[i], frequency)\n",
    "\n",
    "    return hi_ifg, si_ifg, wb_ifg\n",
    "\n",
    "# Run calibration\n",
    "cpus = cpu_count() if processors == 0 else processors\n",
    "with Pool(cpus) as pool:\n",
    "    results = list(tqdm(pool.imap(process_iteration, range(magnetic_field.shape[0])), total=magnetic_field.shape[0]))\n",
    "\n",
    "# Process results\n",
    "for i, result in enumerate(results):\n",
    "    if result[0] is not None and hsi_calibration_validation(result[1], result[0]):\n",
    "        hi_temp += result[0]\n",
    "        si_temp += result[1]\n",
    "        wb_temp += result[2]\n",
    "        count += 1\n",
    "\n",
    "hi_ifg = hi_temp / count\n",
    "si_ifg = si_temp / count\n",
    "wb_ifg = wb_temp / count\n",
    "\n",
    "if count < magnetic_field.shape[0]:\n",
    "    warn(f\"{magnetic_field.shape[0] - count} iterations failed\")\n",
    "\n",
    "print(\"Hard Iron: \", hi_ifg)\n",
    "print(\"Soft Iron: \", si_ifg)\n",
    "print(\"Gyro bias: \", wb_ifg)\n",
    "\n",
    "# Save results\n",
    "if hsi_calibration_validation(si_ifg, hi_ifg):\n",
    "    hi_dict[\"magyc_ifg\"] = hi_ifg\n",
    "    si_dict[\"magyc_ifg\"] = si_ifg\n",
    "    wb_dict[\"magyc_ifg\"] = wb_ifg\n",
    "else:\n",
    "    hi_dict[\"magyc_ifg\"] = None\n",
    "    si_dict[\"magyc_ifg\"] = None\n",
    "    wb_dict[\"magyc_ifg\"] = None\n",
    "    print(\"!!CALIBRATION NON VALID!!\")"
   ]
  },
  {
   "cell_type": "markdown",
   "metadata": {},
   "source": [
    "\n",
    "## Calibration Results"
   ]
  },
  {
   "cell_type": "code",
   "execution_count": null,
   "metadata": {},
   "outputs": [],
   "source": [
    "# Save a csv with the results\n",
    "data_hsi = dict()\n",
    "data_hsi[\"Method\"] = [\"A00\", \"A01\", \"A02\", \"A10\", \"A11\", \"A12\", \"A20\", \"A21\", \"A22\", \"B0\", \"B1\", \"B2\", \"W0\", \"W1\", \"W2\"]\n",
    "\n",
    "for k in hi_dict.keys():\n",
    "    if si_dict[k] is None or np.any(np.isnan(si_dict[k])):\n",
    "        data_hsi[k] = np.zeros((9, )).tolist()\n",
    "    else:\n",
    "        data_hsi[k] = np.round(si_dict[k], 6).flatten().tolist()\n",
    "    if hi_dict[k] is None or np.any(np.isnan(hi_dict[k])):\n",
    "        data_hsi[k] += np.zeros((3, )).tolist()\n",
    "    else:\n",
    "        data_hsi[k] += np.round(hi_dict[k], 6).flatten().tolist()\n",
    "    if wb_dict[k] is None or np.any(np.isnan(wb_dict[k])):\n",
    "        data_hsi[k] += np.zeros((3, )).tolist()\n",
    "    else:\n",
    "        data_hsi[k] += np.round(wb_dict[k], 6).flatten().tolist()\n",
    "\n",
    "df_hsi = pd.DataFrame(data_hsi)\n",
    "print(df_hsi)"
   ]
  },
  {
   "cell_type": "markdown",
   "metadata": {},
   "source": [
    "## Self-Evaluation"
   ]
  },
  {
   "cell_type": "code",
   "execution_count": null,
   "metadata": {},
   "outputs": [],
   "source": [
    "mf_raw_magnitude = nm.norm(magnetic_field[0])\n",
    "mf_bfg_magnitude = nm.norm((np.linalg.inv(si_bfg) @ (magnetic_field[0] - hi_bfg).T).T)\n",
    "mf_ifg_magnitude = nm.norm((np.linalg.inv(si_ifg) @ (magnetic_field[0] - hi_ifg).T).T)\n",
    "mf_mf3_magnitude = nm.norm((np.linalg.inv(si_mf3) @ (magnetic_field[0] - hi_mf3).T).T)\n",
    "mf_ef_magnitude = nm.norm((np.linalg.inv(si_ef) @ (magnetic_field[0] - hi_ef).T).T)\n",
    "mf_twostep_magnitude = nm.norm((np.linalg.inv(si_twostep) @ (magnetic_field[0] - hi_twostep).T).T)\n",
    "corrected_mf = [mf_raw_magnitude, mf_twostep_magnitude, mf_ef_magnitude, mf_mf3_magnitude, mf_bfg_magnitude, mf_ifg_magnitude]\n",
    "methods_names = [\"RAW\", \"TWOSTEP\", \"Ellipsoid Fit\", \"MagFactor3\", \"MAGYC-BFG\", \"MAGYC-IFG\"]\n",
    "\n",
    "# Print magnetic field metrics summary\n",
    "data = dict()\n",
    "data[\"Metrics\"] = [\n",
    "    \"Mean (mG)\",\n",
    "    \"Std (mG)\",\n",
    "    \"Max (mG)\",\n",
    "    \"Min (mG)\",\n",
    "    \"RMSE (mG)\",\n",
    "]\n",
    "\n",
    "for i, method in enumerate(corrected_mf):\n",
    "    metrics = [\n",
    "        np.mean(method),\n",
    "        np.std(method),\n",
    "        np.max(method),\n",
    "        np.min(method),\n",
    "        np.sqrt(np.mean((method - np.mean(method))**2)),\n",
    "    ]\n",
    "\n",
    "    metrics = [round(m * 1e3, 4) for m in metrics]\n",
    "    data[methods_names[i]] = metrics\n",
    "\n",
    "df = pd.DataFrame(data)\n",
    "pd.set_option('display.max_columns', None)\n",
    "pd.set_option('display.expand_frame_repr', False)\n",
    "print(df)"
   ]
  },
  {
   "cell_type": "markdown",
   "metadata": {},
   "source": [
    "## Save Results"
   ]
  },
  {
   "cell_type": "code",
   "execution_count": null,
   "metadata": {},
   "outputs": [],
   "source": [
    "# Write results\n",
    "dict_pairs = [(hi_dict, output_path_hi), (si_dict, output_path_si), (wb_dict, output_path_wb)]\n",
    "\n",
    "for d, p in dict_pairs:\n",
    "    with open(p, 'wb') as f:\n",
    "        pkl.dump(d, f)"
   ]
  }
 ],
 "metadata": {
  "kernelspec": {
   "display_name": "magyc-_PWGrhYm-py3.10",
   "language": "python",
   "name": "python3"
  },
  "language_info": {
   "codemirror_mode": {
    "name": "ipython",
    "version": 3
   },
   "file_extension": ".py",
   "mimetype": "text/x-python",
   "name": "python",
   "nbconvert_exporter": "python",
   "pygments_lexer": "ipython3",
   "version": "3.10.12"
  }
 },
 "nbformat": 4,
 "nbformat_minor": 2
}
